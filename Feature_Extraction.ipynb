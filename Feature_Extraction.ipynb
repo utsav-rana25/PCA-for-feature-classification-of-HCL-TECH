{
  "cells": [
    {
      "cell_type": "code",
      "execution_count": null,
      "metadata": {
        "id": "YxzMh0peHodi"
      },
      "outputs": [],
      "source": [
        "import pandas as pd\n",
        "from sklearn.decomposition import PCA\n",
        "from sklearn.preprocessing import StandardScaler"
      ],
      "id": "YxzMh0peHodi"
    },
    {
      "cell_type": "code",
      "source": [],
      "metadata": {
        "id": "tx-0t58rVcr0"
      },
      "id": "tx-0t58rVcr0",
      "execution_count": null,
      "outputs": []
    },
    {
      "cell_type": "code",
      "source": [],
      "metadata": {
        "id": "n069ucEzVdFb"
      },
      "id": "n069ucEzVdFb",
      "execution_count": null,
      "outputs": []
    },
    {
      "cell_type": "code",
      "execution_count": null,
      "metadata": {
        "colab": {
          "base_uri": "https://localhost:8080/"
        },
        "id": "6YnPYQBqyN3A",
        "outputId": "f8799983-ce77-4877-e60b-9c4c8567d669"
      },
      "outputs": [
        {
          "name": "stdout",
          "output_type": "stream",
          "text": [
            "Drive already mounted at /content/drive; to attempt to forcibly remount, call drive.mount(\"/content/drive\", force_remount=True).\n"
          ]
        }
      ],
      "source": [
        "# @title\n",
        "from google.colab import drive\n",
        "drive.mount('/content/drive')"
      ],
      "id": "6YnPYQBqyN3A"
    },
    {
      "cell_type": "code",
      "execution_count": null,
      "metadata": {
        "colab": {
          "base_uri": "https://localhost:8080/",
          "height": 342
        },
        "id": "sgDCMKbKy3Ce",
        "outputId": "2298d6f5-e711-431a-d222-7bfd3dfffdab"
      },
      "outputs": [
        {
          "data": {
            "text/html": [
              "\n",
              "  <div id=\"df-2e30987e-4bff-427e-ae03-1b7fdecea4dd\" class=\"colab-df-container\">\n",
              "    <div>\n",
              "<style scoped>\n",
              "    .dataframe tbody tr th:only-of-type {\n",
              "        vertical-align: middle;\n",
              "    }\n",
              "\n",
              "    .dataframe tbody tr th {\n",
              "        vertical-align: top;\n",
              "    }\n",
              "\n",
              "    .dataframe thead th {\n",
              "        text-align: right;\n",
              "    }\n",
              "</style>\n",
              "<table border=\"1\" class=\"dataframe\">\n",
              "  <thead>\n",
              "    <tr style=\"text-align: right;\">\n",
              "      <th></th>\n",
              "      <th>date</th>\n",
              "      <th>open</th>\n",
              "      <th>high</th>\n",
              "      <th>low</th>\n",
              "      <th>close</th>\n",
              "      <th>volume</th>\n",
              "      <th>sma5</th>\n",
              "      <th>sma10</th>\n",
              "      <th>sma15</th>\n",
              "      <th>sma20</th>\n",
              "      <th>...</th>\n",
              "      <th>fastd</th>\n",
              "      <th>fastksr</th>\n",
              "      <th>fastdsr</th>\n",
              "      <th>ULTOSC</th>\n",
              "      <th>WILLR</th>\n",
              "      <th>ATR</th>\n",
              "      <th>Trange</th>\n",
              "      <th>TYPPRICE</th>\n",
              "      <th>HT_DCPERIOD</th>\n",
              "      <th>BETA</th>\n",
              "    </tr>\n",
              "  </thead>\n",
              "  <tbody>\n",
              "    <tr>\n",
              "      <th>0</th>\n",
              "      <td>2015-02-02 14:30:00+05:30</td>\n",
              "      <td>471.20</td>\n",
              "      <td>471.60</td>\n",
              "      <td>470.90</td>\n",
              "      <td>470.95</td>\n",
              "      <td>40632</td>\n",
              "      <td>470.99</td>\n",
              "      <td>471.380</td>\n",
              "      <td>470.986667</td>\n",
              "      <td>470.3775</td>\n",
              "      <td>...</td>\n",
              "      <td>44.034091</td>\n",
              "      <td>36.201304</td>\n",
              "      <td>38.596484</td>\n",
              "      <td>48.444094</td>\n",
              "      <td>-56.862745</td>\n",
              "      <td>1.084936</td>\n",
              "      <td>0.70</td>\n",
              "      <td>471.150000</td>\n",
              "      <td>21.773909</td>\n",
              "      <td>1.274319</td>\n",
              "    </tr>\n",
              "    <tr>\n",
              "      <th>1</th>\n",
              "      <td>2015-02-02 14:35:00+05:30</td>\n",
              "      <td>471.00</td>\n",
              "      <td>471.00</td>\n",
              "      <td>469.00</td>\n",
              "      <td>470.00</td>\n",
              "      <td>62886</td>\n",
              "      <td>470.74</td>\n",
              "      <td>471.145</td>\n",
              "      <td>471.053333</td>\n",
              "      <td>470.4225</td>\n",
              "      <td>...</td>\n",
              "      <td>43.723291</td>\n",
              "      <td>0.000000</td>\n",
              "      <td>29.425887</td>\n",
              "      <td>42.658001</td>\n",
              "      <td>-75.490196</td>\n",
              "      <td>1.150298</td>\n",
              "      <td>2.00</td>\n",
              "      <td>470.000000</td>\n",
              "      <td>21.309144</td>\n",
              "      <td>2.608459</td>\n",
              "    </tr>\n",
              "    <tr>\n",
              "      <th>2</th>\n",
              "      <td>2015-02-02 14:40:00+05:30</td>\n",
              "      <td>469.95</td>\n",
              "      <td>470.65</td>\n",
              "      <td>469.65</td>\n",
              "      <td>469.65</td>\n",
              "      <td>46254</td>\n",
              "      <td>470.56</td>\n",
              "      <td>470.885</td>\n",
              "      <td>471.080000</td>\n",
              "      <td>470.4925</td>\n",
              "      <td>...</td>\n",
              "      <td>36.431624</td>\n",
              "      <td>0.000000</td>\n",
              "      <td>12.067101</td>\n",
              "      <td>39.847306</td>\n",
              "      <td>-86.597938</td>\n",
              "      <td>1.139562</td>\n",
              "      <td>1.00</td>\n",
              "      <td>469.983333</td>\n",
              "      <td>20.847312</td>\n",
              "      <td>1.917713</td>\n",
              "    </tr>\n",
              "    <tr>\n",
              "      <th>3</th>\n",
              "      <td>2015-02-02 14:45:00+05:30</td>\n",
              "      <td>469.55</td>\n",
              "      <td>469.90</td>\n",
              "      <td>468.85</td>\n",
              "      <td>469.75</td>\n",
              "      <td>64066</td>\n",
              "      <td>470.30</td>\n",
              "      <td>470.775</td>\n",
              "      <td>471.113333</td>\n",
              "      <td>470.5750</td>\n",
              "      <td>...</td>\n",
              "      <td>32.062937</td>\n",
              "      <td>7.005344</td>\n",
              "      <td>2.335115</td>\n",
              "      <td>43.114802</td>\n",
              "      <td>-82.000000</td>\n",
              "      <td>1.133165</td>\n",
              "      <td>1.05</td>\n",
              "      <td>469.500000</td>\n",
              "      <td>20.418322</td>\n",
              "      <td>1.568602</td>\n",
              "    </tr>\n",
              "    <tr>\n",
              "      <th>4</th>\n",
              "      <td>2015-02-02 14:50:00+05:30</td>\n",
              "      <td>469.75</td>\n",
              "      <td>469.90</td>\n",
              "      <td>469.25</td>\n",
              "      <td>469.25</td>\n",
              "      <td>47402</td>\n",
              "      <td>469.92</td>\n",
              "      <td>470.505</td>\n",
              "      <td>470.956667</td>\n",
              "      <td>470.6325</td>\n",
              "      <td>...</td>\n",
              "      <td>24.090909</td>\n",
              "      <td>0.000000</td>\n",
              "      <td>2.335115</td>\n",
              "      <td>42.639959</td>\n",
              "      <td>-89.041096</td>\n",
              "      <td>1.098653</td>\n",
              "      <td>0.65</td>\n",
              "      <td>469.466667</td>\n",
              "      <td>20.036189</td>\n",
              "      <td>1.850209</td>\n",
              "    </tr>\n",
              "  </tbody>\n",
              "</table>\n",
              "<p>5 rows × 59 columns</p>\n",
              "</div>\n",
              "    <div class=\"colab-df-buttons\">\n",
              "\n",
              "  <div class=\"colab-df-container\">\n",
              "    <button class=\"colab-df-convert\" onclick=\"convertToInteractive('df-2e30987e-4bff-427e-ae03-1b7fdecea4dd')\"\n",
              "            title=\"Convert this dataframe to an interactive table.\"\n",
              "            style=\"display:none;\">\n",
              "\n",
              "  <svg xmlns=\"http://www.w3.org/2000/svg\" height=\"24px\" viewBox=\"0 -960 960 960\">\n",
              "    <path d=\"M120-120v-720h720v720H120Zm60-500h600v-160H180v160Zm220 220h160v-160H400v160Zm0 220h160v-160H400v160ZM180-400h160v-160H180v160Zm440 0h160v-160H620v160ZM180-180h160v-160H180v160Zm440 0h160v-160H620v160Z\"/>\n",
              "  </svg>\n",
              "    </button>\n",
              "\n",
              "  <style>\n",
              "    .colab-df-container {\n",
              "      display:flex;\n",
              "      gap: 12px;\n",
              "    }\n",
              "\n",
              "    .colab-df-convert {\n",
              "      background-color: #E8F0FE;\n",
              "      border: none;\n",
              "      border-radius: 50%;\n",
              "      cursor: pointer;\n",
              "      display: none;\n",
              "      fill: #1967D2;\n",
              "      height: 32px;\n",
              "      padding: 0 0 0 0;\n",
              "      width: 32px;\n",
              "    }\n",
              "\n",
              "    .colab-df-convert:hover {\n",
              "      background-color: #E2EBFA;\n",
              "      box-shadow: 0px 1px 2px rgba(60, 64, 67, 0.3), 0px 1px 3px 1px rgba(60, 64, 67, 0.15);\n",
              "      fill: #174EA6;\n",
              "    }\n",
              "\n",
              "    .colab-df-buttons div {\n",
              "      margin-bottom: 4px;\n",
              "    }\n",
              "\n",
              "    [theme=dark] .colab-df-convert {\n",
              "      background-color: #3B4455;\n",
              "      fill: #D2E3FC;\n",
              "    }\n",
              "\n",
              "    [theme=dark] .colab-df-convert:hover {\n",
              "      background-color: #434B5C;\n",
              "      box-shadow: 0px 1px 3px 1px rgba(0, 0, 0, 0.15);\n",
              "      filter: drop-shadow(0px 1px 2px rgba(0, 0, 0, 0.3));\n",
              "      fill: #FFFFFF;\n",
              "    }\n",
              "  </style>\n",
              "\n",
              "    <script>\n",
              "      const buttonEl =\n",
              "        document.querySelector('#df-2e30987e-4bff-427e-ae03-1b7fdecea4dd button.colab-df-convert');\n",
              "      buttonEl.style.display =\n",
              "        google.colab.kernel.accessAllowed ? 'block' : 'none';\n",
              "\n",
              "      async function convertToInteractive(key) {\n",
              "        const element = document.querySelector('#df-2e30987e-4bff-427e-ae03-1b7fdecea4dd');\n",
              "        const dataTable =\n",
              "          await google.colab.kernel.invokeFunction('convertToInteractive',\n",
              "                                                    [key], {});\n",
              "        if (!dataTable) return;\n",
              "\n",
              "        const docLinkHtml = 'Like what you see? Visit the ' +\n",
              "          '<a target=\"_blank\" href=https://colab.research.google.com/notebooks/data_table.ipynb>data table notebook</a>'\n",
              "          + ' to learn more about interactive tables.';\n",
              "        element.innerHTML = '';\n",
              "        dataTable['output_type'] = 'display_data';\n",
              "        await google.colab.output.renderOutput(dataTable, element);\n",
              "        const docLink = document.createElement('div');\n",
              "        docLink.innerHTML = docLinkHtml;\n",
              "        element.appendChild(docLink);\n",
              "      }\n",
              "    </script>\n",
              "  </div>\n",
              "\n",
              "\n",
              "<div id=\"df-914d7385-6bef-4aaf-96dd-c1f73ffe037e\">\n",
              "  <button class=\"colab-df-quickchart\" onclick=\"quickchart('df-914d7385-6bef-4aaf-96dd-c1f73ffe037e')\"\n",
              "            title=\"Suggest charts.\"\n",
              "            style=\"display:none;\">\n",
              "\n",
              "<svg xmlns=\"http://www.w3.org/2000/svg\" height=\"24px\"viewBox=\"0 0 24 24\"\n",
              "     width=\"24px\">\n",
              "    <g>\n",
              "        <path d=\"M19 3H5c-1.1 0-2 .9-2 2v14c0 1.1.9 2 2 2h14c1.1 0 2-.9 2-2V5c0-1.1-.9-2-2-2zM9 17H7v-7h2v7zm4 0h-2V7h2v10zm4 0h-2v-4h2v4z\"/>\n",
              "    </g>\n",
              "</svg>\n",
              "  </button>\n",
              "\n",
              "<style>\n",
              "  .colab-df-quickchart {\n",
              "      --bg-color: #E8F0FE;\n",
              "      --fill-color: #1967D2;\n",
              "      --hover-bg-color: #E2EBFA;\n",
              "      --hover-fill-color: #174EA6;\n",
              "      --disabled-fill-color: #AAA;\n",
              "      --disabled-bg-color: #DDD;\n",
              "  }\n",
              "\n",
              "  [theme=dark] .colab-df-quickchart {\n",
              "      --bg-color: #3B4455;\n",
              "      --fill-color: #D2E3FC;\n",
              "      --hover-bg-color: #434B5C;\n",
              "      --hover-fill-color: #FFFFFF;\n",
              "      --disabled-bg-color: #3B4455;\n",
              "      --disabled-fill-color: #666;\n",
              "  }\n",
              "\n",
              "  .colab-df-quickchart {\n",
              "    background-color: var(--bg-color);\n",
              "    border: none;\n",
              "    border-radius: 50%;\n",
              "    cursor: pointer;\n",
              "    display: none;\n",
              "    fill: var(--fill-color);\n",
              "    height: 32px;\n",
              "    padding: 0;\n",
              "    width: 32px;\n",
              "  }\n",
              "\n",
              "  .colab-df-quickchart:hover {\n",
              "    background-color: var(--hover-bg-color);\n",
              "    box-shadow: 0 1px 2px rgba(60, 64, 67, 0.3), 0 1px 3px 1px rgba(60, 64, 67, 0.15);\n",
              "    fill: var(--button-hover-fill-color);\n",
              "  }\n",
              "\n",
              "  .colab-df-quickchart-complete:disabled,\n",
              "  .colab-df-quickchart-complete:disabled:hover {\n",
              "    background-color: var(--disabled-bg-color);\n",
              "    fill: var(--disabled-fill-color);\n",
              "    box-shadow: none;\n",
              "  }\n",
              "\n",
              "  .colab-df-spinner {\n",
              "    border: 2px solid var(--fill-color);\n",
              "    border-color: transparent;\n",
              "    border-bottom-color: var(--fill-color);\n",
              "    animation:\n",
              "      spin 1s steps(1) infinite;\n",
              "  }\n",
              "\n",
              "  @keyframes spin {\n",
              "    0% {\n",
              "      border-color: transparent;\n",
              "      border-bottom-color: var(--fill-color);\n",
              "      border-left-color: var(--fill-color);\n",
              "    }\n",
              "    20% {\n",
              "      border-color: transparent;\n",
              "      border-left-color: var(--fill-color);\n",
              "      border-top-color: var(--fill-color);\n",
              "    }\n",
              "    30% {\n",
              "      border-color: transparent;\n",
              "      border-left-color: var(--fill-color);\n",
              "      border-top-color: var(--fill-color);\n",
              "      border-right-color: var(--fill-color);\n",
              "    }\n",
              "    40% {\n",
              "      border-color: transparent;\n",
              "      border-right-color: var(--fill-color);\n",
              "      border-top-color: var(--fill-color);\n",
              "    }\n",
              "    60% {\n",
              "      border-color: transparent;\n",
              "      border-right-color: var(--fill-color);\n",
              "    }\n",
              "    80% {\n",
              "      border-color: transparent;\n",
              "      border-right-color: var(--fill-color);\n",
              "      border-bottom-color: var(--fill-color);\n",
              "    }\n",
              "    90% {\n",
              "      border-color: transparent;\n",
              "      border-bottom-color: var(--fill-color);\n",
              "    }\n",
              "  }\n",
              "</style>\n",
              "\n",
              "  <script>\n",
              "    async function quickchart(key) {\n",
              "      const quickchartButtonEl =\n",
              "        document.querySelector('#' + key + ' button');\n",
              "      quickchartButtonEl.disabled = true;  // To prevent multiple clicks.\n",
              "      quickchartButtonEl.classList.add('colab-df-spinner');\n",
              "      try {\n",
              "        const charts = await google.colab.kernel.invokeFunction(\n",
              "            'suggestCharts', [key], {});\n",
              "      } catch (error) {\n",
              "        console.error('Error during call to suggestCharts:', error);\n",
              "      }\n",
              "      quickchartButtonEl.classList.remove('colab-df-spinner');\n",
              "      quickchartButtonEl.classList.add('colab-df-quickchart-complete');\n",
              "    }\n",
              "    (() => {\n",
              "      let quickchartButtonEl =\n",
              "        document.querySelector('#df-914d7385-6bef-4aaf-96dd-c1f73ffe037e button');\n",
              "      quickchartButtonEl.style.display =\n",
              "        google.colab.kernel.accessAllowed ? 'block' : 'none';\n",
              "    })();\n",
              "  </script>\n",
              "</div>\n",
              "    </div>\n",
              "  </div>\n"
            ],
            "text/plain": [
              "                        date    open    high     low   close  volume    sma5  \\\n",
              "0  2015-02-02 14:30:00+05:30  471.20  471.60  470.90  470.95   40632  470.99   \n",
              "1  2015-02-02 14:35:00+05:30  471.00  471.00  469.00  470.00   62886  470.74   \n",
              "2  2015-02-02 14:40:00+05:30  469.95  470.65  469.65  469.65   46254  470.56   \n",
              "3  2015-02-02 14:45:00+05:30  469.55  469.90  468.85  469.75   64066  470.30   \n",
              "4  2015-02-02 14:50:00+05:30  469.75  469.90  469.25  469.25   47402  469.92   \n",
              "\n",
              "     sma10       sma15     sma20  ...      fastd    fastksr    fastdsr  \\\n",
              "0  471.380  470.986667  470.3775  ...  44.034091  36.201304  38.596484   \n",
              "1  471.145  471.053333  470.4225  ...  43.723291   0.000000  29.425887   \n",
              "2  470.885  471.080000  470.4925  ...  36.431624   0.000000  12.067101   \n",
              "3  470.775  471.113333  470.5750  ...  32.062937   7.005344   2.335115   \n",
              "4  470.505  470.956667  470.6325  ...  24.090909   0.000000   2.335115   \n",
              "\n",
              "      ULTOSC      WILLR       ATR  Trange    TYPPRICE  HT_DCPERIOD      BETA  \n",
              "0  48.444094 -56.862745  1.084936    0.70  471.150000    21.773909  1.274319  \n",
              "1  42.658001 -75.490196  1.150298    2.00  470.000000    21.309144  2.608459  \n",
              "2  39.847306 -86.597938  1.139562    1.00  469.983333    20.847312  1.917713  \n",
              "3  43.114802 -82.000000  1.133165    1.05  469.500000    20.418322  1.568602  \n",
              "4  42.639959 -89.041096  1.098653    0.65  469.466667    20.036189  1.850209  \n",
              "\n",
              "[5 rows x 59 columns]"
            ]
          },
          "execution_count": 3,
          "metadata": {},
          "output_type": "execute_result"
        }
      ],
      "source": [
        "import pandas as pd\n",
        "path =\"/content/drive/MyDrive/dataset/HCLTECH_with_indicators_.csv\"\n",
        "df = pd.read_csv(path)\n",
        "df.head()"
      ],
      "id": "sgDCMKbKy3Ce"
    },
    {
      "cell_type": "markdown",
      "metadata": {
        "id": "EIK5vIpPwYyi"
      },
      "source": [
        "# New Section"
      ],
      "id": "EIK5vIpPwYyi"
    },
    {
      "cell_type": "code",
      "execution_count": null,
      "metadata": {
        "id": "vxVsnzCyeEjl"
      },
      "outputs": [],
      "source": [
        "df['date'] = pd.to_datetime(df['date'], format='%Y-%m-%d %H:%M:%S%z')\n",
        "df['year'] = df['date'].dt.year\n",
        "df['month'] = df['date'].dt.month\n",
        "df['day'] = df['date'].dt.day\n",
        "df['hour'] = df['date'].dt.hour\n",
        "df['minute'] = df['date'].dt.minute\n",
        "df['day_of_week'] = df['date'].dt.dayofweek"
      ],
      "id": "vxVsnzCyeEjl"
    },
    {
      "cell_type": "code",
      "execution_count": null,
      "metadata": {
        "colab": {
          "base_uri": "https://localhost:8080/"
        },
        "id": "__XYMRC7mFpT",
        "outputId": "58d44719-5f86-48fd-9bdb-2a8688b8761e"
      },
      "outputs": [
        {
          "name": "stdout",
          "output_type": "stream",
          "text": [
            "<class 'pandas.core.frame.DataFrame'>\n",
            "RangeIndex: 130348 entries, 0 to 130347\n",
            "Data columns (total 65 columns):\n",
            " #   Column        Non-Null Count   Dtype                                \n",
            "---  ------        --------------   -----                                \n",
            " 0   date          130348 non-null  datetime64[ns, pytz.FixedOffset(330)]\n",
            " 1   open          130348 non-null  float64                              \n",
            " 2   high          130348 non-null  float64                              \n",
            " 3   low           130348 non-null  float64                              \n",
            " 4   close         130348 non-null  float64                              \n",
            " 5   volume        130348 non-null  int64                                \n",
            " 6   sma5          130348 non-null  float64                              \n",
            " 7   sma10         130348 non-null  float64                              \n",
            " 8   sma15         130348 non-null  float64                              \n",
            " 9   sma20         130348 non-null  float64                              \n",
            " 10  ema5          130348 non-null  float64                              \n",
            " 11  ema10         130348 non-null  float64                              \n",
            " 12  ema15         130348 non-null  float64                              \n",
            " 13  ema20         130348 non-null  float64                              \n",
            " 14  upperband     130348 non-null  float64                              \n",
            " 15  middleband    130348 non-null  float64                              \n",
            " 16  lowerband     130348 non-null  float64                              \n",
            " 17  HT_TRENDLINE  130348 non-null  float64                              \n",
            " 18  KAMA10        130348 non-null  float64                              \n",
            " 19  KAMA20        130348 non-null  float64                              \n",
            " 20  KAMA30        130348 non-null  float64                              \n",
            " 21  SAR           130348 non-null  float64                              \n",
            " 22  TRIMA5        130348 non-null  float64                              \n",
            " 23  TRIMA10       130348 non-null  float64                              \n",
            " 24  TRIMA20       130348 non-null  float64                              \n",
            " 25  ADX5          130348 non-null  float64                              \n",
            " 26  ADX10         130348 non-null  float64                              \n",
            " 27  ADX20         130348 non-null  float64                              \n",
            " 28  APO           130348 non-null  float64                              \n",
            " 29  CCI5          130348 non-null  float64                              \n",
            " 30  CCI10         130348 non-null  float64                              \n",
            " 31  CCI15         130348 non-null  float64                              \n",
            " 32  macd510       130348 non-null  float64                              \n",
            " 33  macd520       130348 non-null  float64                              \n",
            " 34  macd1020      130348 non-null  float64                              \n",
            " 35  macd1520      130348 non-null  float64                              \n",
            " 36  macd1226      130348 non-null  float64                              \n",
            " 37  MOM10         130348 non-null  float64                              \n",
            " 38  MOM15         130348 non-null  float64                              \n",
            " 39  MOM20         130348 non-null  float64                              \n",
            " 40  ROC5          130348 non-null  float64                              \n",
            " 41  ROC10         130348 non-null  float64                              \n",
            " 42  ROC20         130348 non-null  float64                              \n",
            " 43  PPO           130348 non-null  float64                              \n",
            " 44  RSI14         130348 non-null  float64                              \n",
            " 45  RSI8          130348 non-null  float64                              \n",
            " 46  slowk         130348 non-null  float64                              \n",
            " 47  slowd         130348 non-null  float64                              \n",
            " 48  fastk         130348 non-null  float64                              \n",
            " 49  fastd         130348 non-null  float64                              \n",
            " 50  fastksr       130348 non-null  float64                              \n",
            " 51  fastdsr       130348 non-null  float64                              \n",
            " 52  ULTOSC        130348 non-null  float64                              \n",
            " 53  WILLR         130348 non-null  float64                              \n",
            " 54  ATR           130348 non-null  float64                              \n",
            " 55  Trange        130348 non-null  float64                              \n",
            " 56  TYPPRICE      130348 non-null  float64                              \n",
            " 57  HT_DCPERIOD   130348 non-null  float64                              \n",
            " 58  BETA          130348 non-null  float64                              \n",
            " 59  year          130348 non-null  int64                                \n",
            " 60  month         130348 non-null  int64                                \n",
            " 61  day           130348 non-null  int64                                \n",
            " 62  hour          130348 non-null  int64                                \n",
            " 63  minute        130348 non-null  int64                                \n",
            " 64  day_of_week   130348 non-null  int64                                \n",
            "dtypes: datetime64[ns, pytz.FixedOffset(330)](1), float64(57), int64(7)\n",
            "memory usage: 64.6 MB\n"
          ]
        }
      ],
      "source": [
        "df.info()"
      ],
      "id": "__XYMRC7mFpT"
    },
    {
      "cell_type": "code",
      "execution_count": null,
      "metadata": {
        "id": "XC4V9AM1emWZ"
      },
      "outputs": [],
      "source": [
        "df.drop(columns=['date'], inplace=True)"
      ],
      "id": "XC4V9AM1emWZ"
    },
    {
      "cell_type": "code",
      "execution_count": null,
      "metadata": {
        "colab": {
          "base_uri": "https://localhost:8080/"
        },
        "id": "qERQZpWmms8l",
        "outputId": "5b2bdf90-6098-4e75-cfc5-06168a124693"
      },
      "outputs": [
        {
          "data": {
            "text/plain": [
              "425.00     214\n",
              "480.00     143\n",
              "420.00     131\n",
              "421.50     130\n",
              "426.00     129\n",
              "          ... \n",
              "1014.35      1\n",
              "1302.50      1\n",
              "1038.05      1\n",
              "1015.40      1\n",
              "1013.80      1\n",
              "Name: close, Length: 14982, dtype: int64"
            ]
          },
          "execution_count": 7,
          "metadata": {},
          "output_type": "execute_result"
        }
      ],
      "source": [
        "df.close.value_counts()"
      ],
      "id": "qERQZpWmms8l"
    },
    {
      "cell_type": "code",
      "execution_count": null,
      "metadata": {
        "colab": {
          "base_uri": "https://localhost:8080/"
        },
        "id": "FlThxBXAfKPf",
        "outputId": "f978d1f5-a322-4547-a132-8e0b15c3df63"
      },
      "outputs": [
        {
          "name": "stdout",
          "output_type": "stream",
          "text": [
            "{0, 1, 2, 3, 4, 5, 6}\n"
          ]
        }
      ],
      "source": [
        "print(set(df['day_of_week'].values))"
      ],
      "id": "FlThxBXAfKPf"
    },
    {
      "cell_type": "code",
      "execution_count": null,
      "metadata": {
        "id": "cd5CoG2WfNLJ"
      },
      "outputs": [],
      "source": [
        "df.dropna(subset=['close'], inplace=True)"
      ],
      "id": "cd5CoG2WfNLJ"
    },
    {
      "cell_type": "code",
      "execution_count": null,
      "metadata": {
        "colab": {
          "base_uri": "https://localhost:8080/"
        },
        "id": "WHSRDsAGfSZQ",
        "outputId": "234b8746-8a08-4cbd-d510-313e2089346b"
      },
      "outputs": [
        {
          "name": "stdout",
          "output_type": "stream",
          "text": [
            "{'open': 0, 'high': 0, 'low': 0, 'close': 0, 'volume': 0, 'sma5': 0, 'sma10': 0, 'sma15': 0, 'sma20': 0, 'ema5': 0, 'ema10': 0, 'ema15': 0, 'ema20': 0, 'upperband': 0, 'middleband': 0, 'lowerband': 0, 'HT_TRENDLINE': 0, 'KAMA10': 0, 'KAMA20': 0, 'KAMA30': 0, 'SAR': 0, 'TRIMA5': 0, 'TRIMA10': 0, 'TRIMA20': 0, 'ADX5': 0, 'ADX10': 0, 'ADX20': 0, 'APO': 0, 'CCI5': 0, 'CCI10': 0, 'CCI15': 0, 'macd510': 0, 'macd520': 0, 'macd1020': 0, 'macd1520': 0, 'macd1226': 0, 'MOM10': 0, 'MOM15': 0, 'MOM20': 0, 'ROC5': 0, 'ROC10': 0, 'ROC20': 0, 'PPO': 0, 'RSI14': 0, 'RSI8': 0, 'slowk': 0, 'slowd': 0, 'fastk': 0, 'fastd': 0, 'fastksr': 0, 'fastdsr': 0, 'ULTOSC': 0, 'WILLR': 0, 'ATR': 0, 'Trange': 0, 'TYPPRICE': 0, 'HT_DCPERIOD': 0, 'BETA': 0, 'year': 0, 'month': 0, 'day': 0, 'hour': 0, 'minute': 0, 'day_of_week': 0}\n"
          ]
        }
      ],
      "source": [
        "missing_values = df.isnull().sum()\n",
        "print(dict(missing_values))"
      ],
      "id": "WHSRDsAGfSZQ"
    },
    {
      "cell_type": "code",
      "execution_count": null,
      "metadata": {
        "id": "T07gGkOqfaiQ"
      },
      "outputs": [],
      "source": [
        "exclude_columns = ['open', 'high', 'low', 'close', 'volume', 'sma5', 'year', 'month', 'day', 'hour', 'minute', 'day_of_week']\n",
        "df.fillna(df.drop(columns=exclude_columns).mean(), inplace=True)"
      ],
      "id": "T07gGkOqfaiQ"
    },
    {
      "cell_type": "code",
      "execution_count": null,
      "metadata": {
        "colab": {
          "base_uri": "https://localhost:8080/"
        },
        "id": "swEVNw9kfvtJ",
        "outputId": "5c00d2ef-39eb-4392-db7d-09f5eb192413"
      },
      "outputs": [
        {
          "name": "stdout",
          "output_type": "stream",
          "text": [
            "{'open': 0, 'high': 0, 'low': 0, 'close': 0, 'volume': 0, 'sma5': 0, 'sma10': 0, 'sma15': 0, 'sma20': 0, 'ema5': 0, 'ema10': 0, 'ema15': 0, 'ema20': 0, 'upperband': 0, 'middleband': 0, 'lowerband': 0, 'HT_TRENDLINE': 0, 'KAMA10': 0, 'KAMA20': 0, 'KAMA30': 0, 'SAR': 0, 'TRIMA5': 0, 'TRIMA10': 0, 'TRIMA20': 0, 'ADX5': 0, 'ADX10': 0, 'ADX20': 0, 'APO': 0, 'CCI5': 0, 'CCI10': 0, 'CCI15': 0, 'macd510': 0, 'macd520': 0, 'macd1020': 0, 'macd1520': 0, 'macd1226': 0, 'MOM10': 0, 'MOM15': 0, 'MOM20': 0, 'ROC5': 0, 'ROC10': 0, 'ROC20': 0, 'PPO': 0, 'RSI14': 0, 'RSI8': 0, 'slowk': 0, 'slowd': 0, 'fastk': 0, 'fastd': 0, 'fastksr': 0, 'fastdsr': 0, 'ULTOSC': 0, 'WILLR': 0, 'ATR': 0, 'Trange': 0, 'TYPPRICE': 0, 'HT_DCPERIOD': 0, 'BETA': 0, 'year': 0, 'month': 0, 'day': 0, 'hour': 0, 'minute': 0, 'day_of_week': 0}\n"
          ]
        }
      ],
      "source": [
        "missing_values = df.isnull().sum()\n",
        "print(dict(missing_values))"
      ],
      "id": "swEVNw9kfvtJ"
    },
    {
      "cell_type": "markdown",
      "metadata": {
        "id": "avZ-RaakJjnB"
      },
      "source": [
        "# PCA Implementation"
      ],
      "id": "avZ-RaakJjnB"
    },
    {
      "cell_type": "code",
      "execution_count": null,
      "metadata": {
        "id": "rtqUzzYPFdka"
      },
      "outputs": [],
      "source": [
        "import pandas as pd\n",
        "import numpy as np\n",
        "import matplotlib.pyplot as plt\n",
        "import seaborn as sns\n",
        "from sklearn.feature_selection import SelectKBest, f_regression, SelectFromModel\n",
        "from sklearn.model_selection import train_test_split\n",
        "from sklearn.linear_model import LinearRegression\n",
        "from sklearn.metrics import mean_squared_error\n",
        "from sklearn.feature_selection import RFE\n",
        "from sklearn.svm import SVR\n",
        "from sklearn.ensemble import RandomForestRegressor"
      ],
      "id": "rtqUzzYPFdka"
    },
    {
      "cell_type": "code",
      "execution_count": null,
      "metadata": {
        "id": "c16d05c4"
      },
      "outputs": [],
      "source": [
        "# Drop the column 'Within the past 2 years'\n",
        "X = df.drop(columns=['close'],axis=1)\n",
        "Y = df['close']\n"
      ],
      "id": "c16d05c4"
    },
    {
      "cell_type": "code",
      "execution_count": null,
      "metadata": {
        "id": "fa6df9e8"
      },
      "outputs": [],
      "source": [
        "X_encoded = X.dropna()  # Example: Remove rows with missing values\n",
        "\n",
        "# Scale numerical features\n",
        "scaler = StandardScaler()\n",
        "X_scaled = scaler.fit_transform(X_encoded)\n",
        "\n",
        "\n"
      ],
      "id": "fa6df9e8"
    },
    {
      "cell_type": "code",
      "execution_count": null,
      "metadata": {
        "id": "3f004e21"
      },
      "outputs": [],
      "source": [
        "# Create a PCA instance with the desired number of components\n",
        "n_components = 30\n",
        "pca = PCA(n_components=n_components)\n",
        "\n",
        "# Fit and transform your data using PCA\n",
        "X_pca = pca.fit_transform(X_scaled)"
      ],
      "id": "3f004e21"
    },
    {
      "cell_type": "code",
      "execution_count": null,
      "metadata": {
        "colab": {
          "base_uri": "https://localhost:8080/"
        },
        "id": "yKYVDxFJv4sg",
        "outputId": "ea12a9a3-73f0-4ec4-9e79-690fe5ccdf95"
      },
      "outputs": [
        {
          "name": "stdout",
          "output_type": "stream",
          "text": [
            "(130348, 30)\n",
            "              PC1       PC2       PC3       PC4       PC5       PC6       PC7  \\\n",
            "0       -2.602650 -0.326271 -1.428461 -0.303138 -0.387292  0.632443  0.053308   \n",
            "1       -2.565358  1.705354 -2.715778  0.078411  0.339850  1.573648 -1.649866   \n",
            "2       -2.659098  2.103840 -2.751732  0.015805 -0.198302  0.900437 -1.067843   \n",
            "3       -2.654849  2.098188 -2.808895  0.248057 -0.132095  0.576045 -0.830923   \n",
            "4       -2.728941  2.994302 -2.859993  0.277293 -0.391092  0.474313 -0.916487   \n",
            "...           ...       ...       ...       ...       ...       ...       ...   \n",
            "130343  11.218921  2.216370 -1.725219 -2.639911 -0.718886  1.335765  0.580905   \n",
            "130344  11.127239  3.599271 -2.619132 -2.825306 -0.902733  1.045855  0.315581   \n",
            "130345  11.075233  4.134451 -2.598816 -2.983230 -1.026376  0.631541  0.787631   \n",
            "130346  11.533845 -1.626191  1.401021 -1.912080  0.564576  0.269884  2.932160   \n",
            "130347  11.576052 -1.118976  1.022001 -1.233888  0.702185  0.365790  2.229282   \n",
            "\n",
            "             PC8       PC9      PC10  ...      PC21      PC22      PC23  \\\n",
            "0       1.010547 -1.783074 -1.335561  ...  0.146590 -0.087857 -0.066283   \n",
            "1       0.880621 -1.602071 -1.362545  ...  0.111679  0.252580  0.268002   \n",
            "2       0.732096 -1.687151 -1.289266  ...  0.201235 -0.153319 -0.044681   \n",
            "3       0.412088 -1.684140 -1.242860  ...  0.031262 -0.133608  0.264997   \n",
            "4       0.705192 -1.692819 -1.186998  ...  0.204521 -0.344319 -0.096872   \n",
            "...          ...       ...       ...  ...       ...       ...       ...   \n",
            "130343 -1.219253 -0.842917  1.303381  ...  0.220572  0.074418  0.304018   \n",
            "130344 -1.636617 -0.863343  1.316222  ...  0.340975  0.009262  0.775832   \n",
            "130345 -1.347163 -0.899723  1.343708  ...  0.391969 -0.040673  0.436858   \n",
            "130346 -0.066639 -0.758758  1.371694  ...  0.890723  0.773515 -0.412461   \n",
            "130347 -0.633437 -0.680745  1.376722  ...  0.749384  0.555336 -0.733802   \n",
            "\n",
            "            PC24      PC25      PC26      PC27      PC28      PC29      PC30  \n",
            "0       0.010363  0.088253  0.549871  1.102059  0.607017 -0.005580 -0.272796  \n",
            "1      -0.859985  0.344338  0.323081  1.084116  0.757859  0.192775 -0.583531  \n",
            "2       0.031944  0.442589  0.427161  1.128371  0.826447  0.208118  0.097804  \n",
            "3       0.175873  0.457835  0.369641  1.155304  0.842837  0.310883  0.179263  \n",
            "4       0.553571  0.038250  0.074960  1.156326  0.871538  0.218098  0.147009  \n",
            "...          ...       ...       ...       ...       ...       ...       ...  \n",
            "130343  0.275048  0.007430 -0.360490 -0.095273 -0.219816  0.225782  0.244991  \n",
            "130344 -0.062935 -0.170467 -0.341284 -0.111226 -0.243690  0.143547 -0.045217  \n",
            "130345  0.173754 -0.111579  0.162157 -0.117786 -0.268087 -0.016364  0.124906  \n",
            "130346 -0.009748  0.691307 -0.457725 -0.156327 -0.134106  0.092271 -0.149944  \n",
            "130347  0.607394 -0.225836  0.038599 -0.156986  0.004028 -0.101296 -0.505272  \n",
            "\n",
            "[130348 rows x 30 columns]\n"
          ]
        }
      ],
      "source": [
        "print(X_pca.shape)\n",
        "# Create a PCA instance with the desired number of components\n",
        "n_components = 30\n",
        "pca = PCA(n_components=n_components)\n",
        "\n",
        "# Fit and transform your data using PCA\n",
        "X_pca = pca.fit_transform(X_scaled)\n",
        "\n",
        "# Create a DataFrame with the principal components\n",
        "import pandas as pd\n",
        "components_df = pd.DataFrame(data=X_pca, columns=[f'PC{i}' for i in range(1, n_components + 1)])\n",
        "\n",
        "# Print the components\n",
        "print(components_df)"
      ],
      "id": "yKYVDxFJv4sg"
    },
    {
      "cell_type": "code",
      "execution_count": null,
      "metadata": {
        "colab": {
          "base_uri": "https://localhost:8080/"
        },
        "id": "3In0oTGUlIAH",
        "outputId": "b2222de2-912d-4a70-a413-00eb56fdfb42"
      },
      "outputs": [
        {
          "data": {
            "text/plain": [
              "array([0.37721542, 0.23661237, 0.09075478, 0.03938545, 0.02351599,\n",
              "       0.0197275 , 0.019186  , 0.01872879, 0.01645626, 0.01588008,\n",
              "       0.0156176 , 0.01520618, 0.01442181, 0.01317078, 0.01257062,\n",
              "       0.01153489, 0.00919302, 0.00718327, 0.00652957, 0.00630211,\n",
              "       0.00460809, 0.00407082, 0.00360215, 0.00308138, 0.00271558,\n",
              "       0.00205933, 0.00185171, 0.00173192, 0.00161907, 0.00126619])"
            ]
          },
          "execution_count": 18,
          "metadata": {},
          "output_type": "execute_result"
        }
      ],
      "source": [
        "pca.explained_variance_ratio_"
      ],
      "id": "3In0oTGUlIAH"
    },
    {
      "cell_type": "code",
      "execution_count": null,
      "metadata": {
        "id": "4cPVw5GAaiNI"
      },
      "outputs": [],
      "source": [],
      "id": "4cPVw5GAaiNI"
    },
    {
      "cell_type": "code",
      "execution_count": null,
      "metadata": {
        "colab": {
          "base_uri": "https://localhost:8080/"
        },
        "id": "18jZGIErnT4x",
        "outputId": "e5094bf5-1e14-47bc-960b-346f7a614265"
      },
      "outputs": [
        {
          "data": {
            "text/plain": [
              "array([[ 2.04714615e-01,  2.04736773e-01,  2.04696434e-01, ...,\n",
              "        -2.20070955e-03, -2.73049417e-04, -1.62243441e-03],\n",
              "       [ 6.22187509e-03,  6.03789763e-03,  5.99206361e-03, ...,\n",
              "         3.49267373e-03,  5.51147943e-04,  3.19711207e-03],\n",
              "       [ 1.21183722e-03,  1.52758269e-03,  1.44280509e-03, ...,\n",
              "         1.15614682e-02, -4.88748845e-03,  2.90274028e-03],\n",
              "       ...,\n",
              "       [-1.21733515e-04,  3.54306549e-06, -4.74999648e-06, ...,\n",
              "        -1.30125886e-02, -2.72183179e-03,  2.77707478e-03],\n",
              "       [-6.47948564e-04,  3.73529857e-04,  4.01948343e-04, ...,\n",
              "         3.96231131e-03, -1.42115562e-03, -1.71628587e-03],\n",
              "       [-1.38594053e-03,  6.37683936e-05,  1.15280349e-04, ...,\n",
              "        -7.29757948e-03, -3.08998066e-03,  1.66675340e-03]])"
            ]
          },
          "execution_count": 19,
          "metadata": {},
          "output_type": "execute_result"
        }
      ],
      "source": [
        "pca.components_"
      ],
      "id": "18jZGIErnT4x"
    },
    {
      "cell_type": "code",
      "execution_count": null,
      "metadata": {
        "id": "KhgEOsQGaiUV"
      },
      "outputs": [],
      "source": [
        "from sklearn.linear_model import LogisticRegression\n",
        "from sklearn.tree import DecisionTreeRegressor\n",
        "from sklearn.ensemble import RandomForestRegressor\n",
        "from sklearn.neighbors import KNeighborsRegressor\n"
      ],
      "id": "KhgEOsQGaiUV"
    },
    {
      "cell_type": "code",
      "execution_count": null,
      "metadata": {
        "id": "TY8esbv62iri"
      },
      "outputs": [],
      "source": [
        "from sklearn.decomposition import PCA\n",
        "\n",
        "# Create and fit PCA\n",
        "n_components = 30  # Choose the desired number of components\n",
        "pca = PCA(n_components=n_components)\n",
        "X_pca = pca.fit_transform(X_scaled)\n"
      ],
      "id": "TY8esbv62iri"
    },
    {
      "cell_type": "code",
      "execution_count": null,
      "metadata": {
        "id": "Pw9fpJNh2spB"
      },
      "outputs": [],
      "source": [
        "from sklearn.model_selection import train_test_split\n",
        "\n",
        "X_train, X_test, y_train, y_test = train_test_split(X_pca, Y, test_size=0.2, random_state=42)\n"
      ],
      "id": "Pw9fpJNh2spB"
    },
    {
      "cell_type": "code",
      "execution_count": null,
      "metadata": {
        "id": "eM6ELEoz2vox"
      },
      "outputs": [],
      "source": [
        "# Example: Create a DecisionTreeRegressor\n",
        "model = DecisionTreeRegressor()\n"
      ],
      "id": "eM6ELEoz2vox"
    },
    {
      "cell_type": "code",
      "execution_count": null,
      "metadata": {
        "colab": {
          "base_uri": "https://localhost:8080/",
          "height": 74
        },
        "id": "4KY--r57207I",
        "outputId": "589238e0-e978-4065-aab3-1359a2d8f931"
      },
      "outputs": [
        {
          "data": {
            "text/html": [
              "<style>#sk-container-id-1 {color: black;background-color: white;}#sk-container-id-1 pre{padding: 0;}#sk-container-id-1 div.sk-toggleable {background-color: white;}#sk-container-id-1 label.sk-toggleable__label {cursor: pointer;display: block;width: 100%;margin-bottom: 0;padding: 0.3em;box-sizing: border-box;text-align: center;}#sk-container-id-1 label.sk-toggleable__label-arrow:before {content: \"▸\";float: left;margin-right: 0.25em;color: #696969;}#sk-container-id-1 label.sk-toggleable__label-arrow:hover:before {color: black;}#sk-container-id-1 div.sk-estimator:hover label.sk-toggleable__label-arrow:before {color: black;}#sk-container-id-1 div.sk-toggleable__content {max-height: 0;max-width: 0;overflow: hidden;text-align: left;background-color: #f0f8ff;}#sk-container-id-1 div.sk-toggleable__content pre {margin: 0.2em;color: black;border-radius: 0.25em;background-color: #f0f8ff;}#sk-container-id-1 input.sk-toggleable__control:checked~div.sk-toggleable__content {max-height: 200px;max-width: 100%;overflow: auto;}#sk-container-id-1 input.sk-toggleable__control:checked~label.sk-toggleable__label-arrow:before {content: \"▾\";}#sk-container-id-1 div.sk-estimator input.sk-toggleable__control:checked~label.sk-toggleable__label {background-color: #d4ebff;}#sk-container-id-1 div.sk-label input.sk-toggleable__control:checked~label.sk-toggleable__label {background-color: #d4ebff;}#sk-container-id-1 input.sk-hidden--visually {border: 0;clip: rect(1px 1px 1px 1px);clip: rect(1px, 1px, 1px, 1px);height: 1px;margin: -1px;overflow: hidden;padding: 0;position: absolute;width: 1px;}#sk-container-id-1 div.sk-estimator {font-family: monospace;background-color: #f0f8ff;border: 1px dotted black;border-radius: 0.25em;box-sizing: border-box;margin-bottom: 0.5em;}#sk-container-id-1 div.sk-estimator:hover {background-color: #d4ebff;}#sk-container-id-1 div.sk-parallel-item::after {content: \"\";width: 100%;border-bottom: 1px solid gray;flex-grow: 1;}#sk-container-id-1 div.sk-label:hover label.sk-toggleable__label {background-color: #d4ebff;}#sk-container-id-1 div.sk-serial::before {content: \"\";position: absolute;border-left: 1px solid gray;box-sizing: border-box;top: 0;bottom: 0;left: 50%;z-index: 0;}#sk-container-id-1 div.sk-serial {display: flex;flex-direction: column;align-items: center;background-color: white;padding-right: 0.2em;padding-left: 0.2em;position: relative;}#sk-container-id-1 div.sk-item {position: relative;z-index: 1;}#sk-container-id-1 div.sk-parallel {display: flex;align-items: stretch;justify-content: center;background-color: white;position: relative;}#sk-container-id-1 div.sk-item::before, #sk-container-id-1 div.sk-parallel-item::before {content: \"\";position: absolute;border-left: 1px solid gray;box-sizing: border-box;top: 0;bottom: 0;left: 50%;z-index: -1;}#sk-container-id-1 div.sk-parallel-item {display: flex;flex-direction: column;z-index: 1;position: relative;background-color: white;}#sk-container-id-1 div.sk-parallel-item:first-child::after {align-self: flex-end;width: 50%;}#sk-container-id-1 div.sk-parallel-item:last-child::after {align-self: flex-start;width: 50%;}#sk-container-id-1 div.sk-parallel-item:only-child::after {width: 0;}#sk-container-id-1 div.sk-dashed-wrapped {border: 1px dashed gray;margin: 0 0.4em 0.5em 0.4em;box-sizing: border-box;padding-bottom: 0.4em;background-color: white;}#sk-container-id-1 div.sk-label label {font-family: monospace;font-weight: bold;display: inline-block;line-height: 1.2em;}#sk-container-id-1 div.sk-label-container {text-align: center;}#sk-container-id-1 div.sk-container {/* jupyter's `normalize.less` sets `[hidden] { display: none; }` but bootstrap.min.css set `[hidden] { display: none !important; }` so we also need the `!important` here to be able to override the default hidden behavior on the sphinx rendered scikit-learn.org. See: https://github.com/scikit-learn/scikit-learn/issues/21755 */display: inline-block !important;position: relative;}#sk-container-id-1 div.sk-text-repr-fallback {display: none;}</style><div id=\"sk-container-id-1\" class=\"sk-top-container\"><div class=\"sk-text-repr-fallback\"><pre>DecisionTreeRegressor()</pre><b>In a Jupyter environment, please rerun this cell to show the HTML representation or trust the notebook. <br />On GitHub, the HTML representation is unable to render, please try loading this page with nbviewer.org.</b></div><div class=\"sk-container\" hidden><div class=\"sk-item\"><div class=\"sk-estimator sk-toggleable\"><input class=\"sk-toggleable__control sk-hidden--visually\" id=\"sk-estimator-id-1\" type=\"checkbox\" checked><label for=\"sk-estimator-id-1\" class=\"sk-toggleable__label sk-toggleable__label-arrow\">DecisionTreeRegressor</label><div class=\"sk-toggleable__content\"><pre>DecisionTreeRegressor()</pre></div></div></div></div></div>"
            ],
            "text/plain": [
              "DecisionTreeRegressor()"
            ]
          },
          "execution_count": 27,
          "metadata": {},
          "output_type": "execute_result"
        }
      ],
      "source": [
        "model.fit(X_train, y_train)\n"
      ],
      "id": "4KY--r57207I"
    },
    {
      "cell_type": "code",
      "execution_count": null,
      "metadata": {
        "id": "HvRQXT9s241E"
      },
      "outputs": [],
      "source": [
        "y_pred = model.predict(X_test)\n"
      ],
      "id": "HvRQXT9s241E"
    },
    {
      "cell_type": "code",
      "execution_count": null,
      "metadata": {
        "colab": {
          "base_uri": "https://localhost:8080/"
        },
        "id": "OborExt0270l",
        "outputId": "6019c5e8-9a4a-439b-8fbc-b4cda577e566"
      },
      "outputs": [
        {
          "name": "stdout",
          "output_type": "stream",
          "text": [
            "Mean Squared Error: 30.8813578826237\n"
          ]
        }
      ],
      "source": [
        "from sklearn.metrics import mean_squared_error\n",
        "mse = mean_squared_error(y_test, y_pred)\n",
        "print(f\"Mean Squared Error: {mse}\")\n"
      ],
      "id": "OborExt0270l"
    },
    {
      "cell_type": "code",
      "execution_count": null,
      "metadata": {
        "colab": {
          "base_uri": "https://localhost:8080/"
        },
        "id": "3BIaEFXr2_zA",
        "outputId": "ab096a72-a118-4841-c18c-d2a10b533576"
      },
      "outputs": [
        {
          "name": "stdout",
          "output_type": "stream",
          "text": [
            "DecisionTreeRegressor MSE: 30.138999712313\n"
          ]
        }
      ],
      "source": [
        "from sklearn.tree import DecisionTreeRegressor\n",
        "from sklearn.metrics import mean_squared_error\n",
        "\n",
        "# Create and train the model\n",
        "model = DecisionTreeRegressor()\n",
        "model.fit(X_train, y_train)\n",
        "\n",
        "# Make predictions\n",
        "y_pred = model.predict(X_test)\n",
        "\n",
        "# Evaluate the model\n",
        "mse = mean_squared_error(y_test, y_pred)\n",
        "print(f\"DecisionTreeRegressor MSE: {mse}\")\n"
      ],
      "id": "3BIaEFXr2_zA"
    },
    {
      "cell_type": "code",
      "execution_count": null,
      "metadata": {
        "colab": {
          "base_uri": "https://localhost:8080/"
        },
        "id": "OvAd3HFw3jk3",
        "outputId": "4a4b1d97-ac12-4361-bcc8-ad585cf576b2"
      },
      "outputs": [
        {
          "name": "stdout",
          "output_type": "stream",
          "text": [
            "Mean Squared Error: 0.2682242214162441\n",
            "R-squared: 0.9999952814632556\n"
          ]
        }
      ],
      "source": [
        "from sklearn.linear_model import LinearRegression\n",
        "from sklearn.metrics import mean_squared_error, r2_score\n",
        "\n",
        "# Create and train a Linear Regression model\n",
        "regression_model = LinearRegression()\n",
        "regression_model.fit(X_train, y_train)  # X_train and y_train should contain your features and target values\n",
        "\n",
        "# Make predictions\n",
        "y_pred = regression_model.predict(X_test)\n",
        "\n",
        "# Calculate Mean Squared Error (MSE)\n",
        "mse = mean_squared_error(y_test, y_pred)\n",
        "print(f\"Mean Squared Error: {mse}\")\n",
        "\n",
        "# Calculate R-squared\n",
        "r2 = r2_score(y_test, y_pred)\n",
        "print(f\"R-squared: {r2}\")\n",
        "\n"
      ],
      "id": "OvAd3HFw3jk3"
    },
    {
      "cell_type": "code",
      "execution_count": null,
      "metadata": {
        "colab": {
          "background_save": true
        },
        "id": "-I_9OEiB4G0A",
        "outputId": "04d3f7cf-ff06-483a-d446-f9c1e8ca1dab"
      },
      "outputs": [
        {
          "name": "stdout",
          "output_type": "stream",
          "text": [
            "Mean Squared Error: 12.572545432211365\n",
            "R-squared: 0.9997788267693374\n"
          ]
        }
      ],
      "source": [
        "from sklearn.ensemble import RandomForestRegressor\n",
        "from sklearn.metrics import mean_squared_error, r2_score\n",
        "\n",
        "# Create and train a RandomForestRegressor model\n",
        "rf_regressor = RandomForestRegressor(n_estimators=100, random_state=42)  # You can adjust the number of trees (n_estimators)\n",
        "\n",
        "rf_regressor.fit(X_train, y_train)  # X_train and y_train should contain your features and target values\n",
        "\n",
        "# Make predictions\n",
        "y_pred = rf_regressor.predict(X_test)\n",
        "\n",
        "# Calculate Mean Squared Error (MSE)\n",
        "mse = mean_squared_error(y_test, y_pred)\n",
        "print(f\"Mean Squared Error: {mse}\")\n",
        "\n",
        "# Calculate R-squared\n",
        "r2 = r2_score(y_test, y_pred)\n",
        "print(f\"R-squared: {r2}\")\n"
      ],
      "id": "-I_9OEiB4G0A"
    },
    {
      "cell_type": "code",
      "execution_count": null,
      "metadata": {
        "id": "6aVaEjN33_Oz",
        "colab": {
          "base_uri": "https://localhost:8080/"
        },
        "outputId": "877598c1-5147-4101-c9bf-1b0de2a77b28"
      },
      "outputs": [
        {
          "output_type": "stream",
          "name": "stdout",
          "text": [
            "Mean Squared Error: 240.70527025700036\n",
            "R-squared: 0.9957655701029431\n"
          ]
        }
      ],
      "source": [
        "from sklearn.neighbors import KNeighborsRegressor\n",
        "from sklearn.metrics import mean_squared_error, r2_score\n",
        "\n",
        "# Create and train a KNeighborsRegressor model\n",
        "knn_regressor = KNeighborsRegressor(n_neighbors=5)  # You can adjust the number of neighbors (n_neighbors)\n",
        "\n",
        "knn_regressor.fit(X_train, y_train)  # X_train and y_train should contain your features and target values\n",
        "\n",
        "# Make predictions\n",
        "y_pred = knn_regressor.predict(X_test)\n",
        "\n",
        "# Calculate Mean Squared Error (MSE)\n",
        "mse = mean_squared_error(y_test, y_pred)\n",
        "print(f\"Mean Squared Error: {mse}\")\n",
        "\n",
        "# Calculate R-squared\n",
        "r2 = r2_score(y_test, y_pred)\n",
        "print(f\"R-squared: {r2}\")\n"
      ],
      "id": "6aVaEjN33_Oz"
    },
    {
      "cell_type": "code",
      "source": [
        "from sklearn.linear_model import LinearRegression\n",
        "from sklearn.ensemble import RandomForestRegressor\n",
        "from sklearn.tree import DecisionTreeRegressor\n",
        "from sklearn.neighbors import KNeighborsRegressor\n",
        "\n",
        "# Train the Linear Regression model\n",
        "linear_model = LinearRegression()\n",
        "linear_model.fit(X_train, y_train)\n",
        "\n",
        "# Train the RandomForest Regressor model\n",
        "rf_model = RandomForestRegressor(n_estimators=100, random_state=42)\n",
        "rf_model.fit(X_train, y_train)\n",
        "\n",
        "# Train the DecisionTree Regressor model\n",
        "dt_model = DecisionTreeRegressor()\n",
        "dt_model.fit(X_train, y_train)\n",
        "\n",
        "# Train the KNeighbors Regressor model\n",
        "knn_model = KNeighborsRegressor(n_neighbors=5)\n",
        "knn_model.fit(X_train, y_train)\n",
        "\n",
        "# Get the feature importances or coefficients for each model\n",
        "linear_coefs = linear_model.coef_\n",
        "rf_feature_importances = rf_model.feature_importances_\n",
        "dt_feature_importances = dt_model.feature_importances_\n",
        "# KNeighbors Regressor does not provide feature importances\n",
        "\n",
        "# Identify common features based on feature importances or coefficients\n",
        "common_features = set()\n",
        "\n",
        "# Add features with non-zero coefficients/importances from Linear Regression\n",
        "for i, coef in enumerate(linear_coefs):\n",
        "    if coef != 0:\n",
        "        common_features.add(i)\n",
        "\n",
        "# Add features with non-zero feature importances from RandomForest and DecisionTree\n",
        "for i, importance in enumerate(rf_feature_importances):\n",
        "    if importance > 0:\n",
        "        common_features.add(i)\n",
        "for i, importance in enumerate(dt_feature_importances):\n",
        "    if importance > 0:\n",
        "        common_features.add(i)\n",
        "\n",
        "# Display the list of common features\n",
        "common_features = list(common_features)\n",
        "print(\"Common Features in All Models:\", common_features)\n"
      ],
      "metadata": {
        "colab": {
          "base_uri": "https://localhost:8080/"
        },
        "id": "RZNoD6pR8tze",
        "outputId": "a4465d41-c71d-40da-d708-015573ed353b"
      },
      "id": "RZNoD6pR8tze",
      "execution_count": null,
      "outputs": [
        {
          "output_type": "stream",
          "name": "stdout",
          "text": [
            "Common Features in All Models: [0, 1, 2, 3, 4, 5, 6, 7, 8, 9, 10, 11, 12, 13, 14, 15, 16, 17, 18, 19, 20, 21, 22, 23, 24, 25, 26, 27, 28, 29]\n"
          ]
        }
      ]
    },
    {
      "cell_type": "code",
      "source": [
        "cd = 0\n",
        "ca = 0\n",
        "\n",
        "def bd(array, placementlelo):\n",
        "    global cd\n",
        "    for step in range(placementlelo - 1):\n",
        "        for i in range(placementlelo - step - 1):\n",
        "            if array[i] < array[i + 1]:\n",
        "                array[i], array[i + 1] = array[i + 1], array[i]\n",
        "                cd += 1\n",
        "\n",
        "def ba(array, placementlelo):\n",
        "    global ca\n",
        "    for step in range(placementlelo - 1):\n",
        "        for i in range(placementlelo - step - 1):\n",
        "            if array[i] > array[i + 1]:\n",
        "                array[i], array[i + 1] = array[i + 1], array[i]\n",
        "                ca += 1\n",
        "\n",
        "def main():\n",
        "    placementlelo = int(input())\n",
        "    da = list(map(int, input().split()))\n",
        "    dd = da.copy()\n",
        "\n",
        "    bd(da, placementlelo)\n",
        "    ba(dd, placementlelo)\n",
        "\n",
        "    if cd > ca:\n",
        "        print(ca)\n",
        "    else:\n",
        "        print(cd)\n",
        "\n",
        "if __name__ == \"__main__\":\n",
        "    main()\n"
      ],
      "metadata": {
        "colab": {
          "base_uri": "https://localhost:8080/"
        },
        "id": "s7i3gkimLUcH",
        "outputId": "f152c1c1-ba1a-42dd-e6bb-bfbe38099b03"
      },
      "id": "s7i3gkimLUcH",
      "execution_count": null,
      "outputs": [
        {
          "output_type": "stream",
          "name": "stdout",
          "text": [
            "5\n",
            "4 5 1 2 3\n",
            "4\n"
          ]
        }
      ]
    },
    {
      "cell_type": "code",
      "source": [
        "cd = 0\n",
        "ca = 0\n",
        "\n",
        "def bd(array, tcsplacement):\n",
        "    global cd\n",
        "    for step in range(tcsplacement - 1):\n",
        "        for i in range(tcsplacement - step - 1):\n",
        "            if array[i] < array[i + 1]:\n",
        "                array[i], array[i + 1] = array[i + 1], array[i]\n",
        "                cd += 1\n",
        "\n",
        "def ba(array, tcsplacement):\n",
        "    global ca\n",
        "    for step in range(tcsplacement - 1):\n",
        "        for i in range(tcsplacement - step - 1):\n",
        "            if array[i] > array[i + 1]:\n",
        "                array[i], array[i + 1] = array[i + 1], array[i]\n",
        "                ca += 1\n",
        "\n",
        "def main():\n",
        "\ttcsplacement = int(input())\n",
        "    da = list(map(int, input().split()))\n",
        "    dd = da.copy()\n",
        "\n",
        "    bd(da, tcsplacement)\n",
        "    ba(dd, tcsplacement)\n",
        "\n",
        "    if cd > ca:\n",
        "        print(ca)\n",
        "    else:\n",
        "        print(cd)\n",
        "\n",
        "if __name__ == \"__main__\":\n",
        "    main()\n"
      ],
      "metadata": {
        "colab": {
          "base_uri": "https://localhost:8080/",
          "height": 141
        },
        "id": "I13S6hIpPL41",
        "outputId": "766d0810-fcd1-4cd9-c258-c4ffd724458c"
      },
      "id": "I13S6hIpPL41",
      "execution_count": null,
      "outputs": [
        {
          "output_type": "error",
          "ename": "IndentationError",
          "evalue": "ignored",
          "traceback": [
            "\u001b[0;36m  File \u001b[0;32m\"<tokenize>\"\u001b[0;36m, line \u001b[0;32m22\u001b[0m\n\u001b[0;31m    da = list(map(int, input().split()))\u001b[0m\n\u001b[0m    ^\u001b[0m\n\u001b[0;31mIndentationError\u001b[0m\u001b[0;31m:\u001b[0m unindent does not match any outer indentation level\n"
          ]
        }
      ]
    },
    {
      "cell_type": "code",
      "source": [
        "def sort_descending(arr, n):\n",
        "    global cd, ca\n",
        "    cd = 0\n",
        "    for step in range(n - 1):\n",
        "        for i in range(n - step - 1):\n",
        "            if arr[i] < arr[i + 1]:\n",
        "                arr[i], arr[i + 1] = arr[i + 1], arr[i]\n",
        "                cd += 1\n",
        "\n",
        "def sort_ascending(arr, n):\n",
        "    global cd, ca\n",
        "    ca = 0\n",
        "    for step in range(n - 1):\n",
        "        for i in range(n - step - 1):\n",
        "            if arr[i] > arr[i + 1]:\n",
        "                arr[i], arr[i + 1] = arr[i + 1], arr[i]\n",
        "                ca += 1\n",
        "\n",
        "if __name__ == \"__main__\":\n",
        "    placement_lelo = int(input())\n",
        "    array_a = list(map(int, input().split()))\n",
        "    array_d = array_a.copy()\n",
        "\n",
        "    sort_descending(array_a, placement_lelo)\n",
        "    sort_ascending(array_d, placement_lelo)\n",
        "\n",
        "    if cd > ca:\n",
        "        print(cd)\n",
        "    else:\n",
        "        print(ca)\n"
      ],
      "metadata": {
        "colab": {
          "base_uri": "https://localhost:8080/"
        },
        "id": "lVkm5kNpMcaU",
        "outputId": "b757d8f2-e232-45f0-f03e-371677967589"
      },
      "id": "lVkm5kNpMcaU",
      "execution_count": null,
      "outputs": [
        {
          "output_type": "stream",
          "name": "stdout",
          "text": [
            "5\n",
            "4 5 1 2 3\n",
            "6\n"
          ]
        }
      ]
    },
    {
      "cell_type": "code",
      "source": [
        "swapped_desc = 0\n",
        "swapped_asc = 0\n",
        "\n",
        "def sort_descending(array, tcsplacement):\n",
        "    global swapped_desc\n",
        "    for step in range(tcsplacement - 1):\n",
        "        for i in range(tcsplacement - step - 1):\n",
        "            if array[i] < array[i + 1]:\n",
        "                array[i], array[i + 1] = array[i + 1], array[i]\n",
        "                swapped_desc += 1\n",
        "\n",
        "def sort_ascending(array, tcsplacement):\n",
        "    global swapped_asc\n",
        "    for step in range(tcsplacement - 1):\n",
        "        for i in range(tcsplacement - step - 1):\n",
        "            if array[i] > array[i + 1]:\n",
        "                array[i], array[i + 1] = array[i + 1], array[i]\n",
        "                swapped_asc += 1\n",
        "\n",
        "def main():\n",
        "    tcsplacement = int(input())\n",
        "    array_a = list(map(int, input().split()))\n",
        "    array_d = array_a.copy()\n",
        "\n",
        "    bd(array_a, tcsplacement)\n",
        "    ba(array_d, tcsplacement)\n",
        "\n",
        "    if swapped_desc > swapped_asc:\n",
        "        print(swapped_asc)\n",
        "    else:\n",
        "        print(swapped_desc)\n",
        "\n",
        "if __name__ == \"__main__\":\n",
        "    main()\n"
      ],
      "metadata": {
        "colab": {
          "base_uri": "https://localhost:8080/"
        },
        "id": "tiG-m3gfOIHT",
        "outputId": "7be7aebe-f99d-4a03-af57-c13a0378878c"
      },
      "id": "tiG-m3gfOIHT",
      "execution_count": null,
      "outputs": [
        {
          "output_type": "stream",
          "name": "stdout",
          "text": [
            "5\n",
            "4 5 1 2 3\n",
            "0\n"
          ]
        }
      ]
    },
    {
      "cell_type": "code",
      "source": [
        "def min_swaps_to_beautiful_array(arr):\n",
        "    n = len(arr)\n",
        "\n",
        "    # Helper function to find the minimum swaps required to sort the array in ascending order\n",
        "    def min_swaps_asc(arr):\n",
        "        swaps = 0\n",
        "        for i in range(n):\n",
        "            min_index = i\n",
        "            for j in range(i+1, n):\n",
        "                if arr[j] < arr[min_index]:\n",
        "                    min_index = j\n",
        "            if min_index != i:\n",
        "                arr[i], arr[min_index] = arr[min_index], arr[i]\n",
        "                swaps += 1\n",
        "        return swaps\n",
        "\n",
        "    # Helper function to find the minimum swaps required to sort the array in descending order\n",
        "    def min_swaps_desc(arr):\n",
        "        swaps = 0\n",
        "        for i in range(n):\n",
        "            max_index = i\n",
        "            for j in range(i+1, n):\n",
        "                if arr[j] > arr[max_index]:\n",
        "                    max_index = j\n",
        "            if max_index != i:\n",
        "                arr[i], arr[max_index] = arr[max_index], arr[i]\n",
        "                swaps += 1\n",
        "        return swaps\n",
        "\n",
        "    # Calculate minimum swaps for both ascending and descending order\n",
        "    swaps_asc = min_swaps_asc(arr.copy())\n",
        "    swaps_desc = min_swaps_desc(arr.copy())\n",
        "\n",
        "    # Return the minimum of the two\n",
        "    return min(swaps_asc, swaps_desc)\n",
        "\n",
        "# Input\n",
        "n = int(input())\n",
        "arr = list(map(int, input().split()))\n",
        "\n",
        "# Output\n",
        "result = min_swaps_to_beautiful_array(arr)\n",
        "print(result)\n"
      ],
      "metadata": {
        "colab": {
          "base_uri": "https://localhost:8080/"
        },
        "id": "11PCeXGbSMfr",
        "outputId": "18898a07-5111-4dd6-de79-fbad01e01077"
      },
      "id": "11PCeXGbSMfr",
      "execution_count": null,
      "outputs": [
        {
          "output_type": "stream",
          "name": "stdout",
          "text": [
            "5\n",
            "2 5 1 2 3\n",
            "4\n"
          ]
        }
      ]
    },
    {
      "cell_type": "code",
      "source": [
        "def min_swaps_to_beautiful_array(arr):\n",
        "    n = len(arr)\n",
        "\n",
        "    # Helper function to find the minimum swaps required to sort the array in ascending order\n",
        "    def min_swaps_asc(arr):\n",
        "        swaps = 0\n",
        "        for i in range(n):\n",
        "            min_index = i\n",
        "            for j in range(i+1, n):\n",
        "                if arr[j] < arr[min_index]:\n",
        "                    min_index = j\n",
        "            if min_index != i:\n",
        "                arr[i], arr[min_index] = arr[min_index], arr[i]\n",
        "                swaps += 1\n",
        "        return swaps\n",
        "\n",
        "    # Helper function to find the minimum swaps required to sort the array in descending order\n",
        "    def min_swaps_desc(arr):\n",
        "        swaps = 0\n",
        "        for i in range(n):\n",
        "            max_index = i\n",
        "            for j in range(i+1, n):\n",
        "                if arr[j] > arr[max_index]:\n",
        "                    max_index = j\n",
        "            if max_index != i:\n",
        "                arr[i], arr[max_index] = arr[max_index], arr[i]\n",
        "                swaps += 1\n",
        "        return swaps\n",
        "\n",
        "    # Calculate minimum swaps for both ascending and descending order\n",
        "    swaps_asc = min_swaps_asc(arr.copy())\n",
        "    swaps_desc = min_swaps_desc(arr.copy())\n",
        "\n",
        "    # Choose the sorting order that requires fewer swaps\n",
        "    if swaps_asc < swaps_desc:\n",
        "        arr.sort()\n",
        "        return swaps_asc\n",
        "    else:\n",
        "        arr.sort(reverse=True)\n",
        "        return swaps_desc\n",
        "\n",
        "# Input\n",
        "n = int(input())\n",
        "arr = list(map(int, input().split()))\n",
        "\n",
        "# Output\n",
        "result = min_swaps_to_beautiful_array(arr)\n",
        "print(result)\n"
      ],
      "metadata": {
        "colab": {
          "base_uri": "https://localhost:8080/"
        },
        "id": "VjsGbBUQS2kL",
        "outputId": "2f576076-4dfe-4c47-99d9-bab62d7505ca"
      },
      "id": "VjsGbBUQS2kL",
      "execution_count": null,
      "outputs": [
        {
          "output_type": "stream",
          "name": "stdout",
          "text": [
            "5\n",
            "4 5 1 2 3\n",
            "2\n"
          ]
        }
      ]
    },
    {
      "cell_type": "code",
      "source": [
        "from collections import deque\n",
        "\n",
        "class UserMainCode(object):\n",
        "\n",
        "    @classmethod\n",
        "    def decrypt(cls, input1, input2, input3):\n",
        "        # Check if tree is empty\n",
        "        if input3 == 0:\n",
        "            return []\n",
        "\n",
        "        # Define functions for each way of storing the tree\n",
        "        def decode_with_root_between_children(tree):\n",
        "            q = deque(tree)\n",
        "            result = []\n",
        "            while q:\n",
        "                node = q.popleft()\n",
        "                if not node: continue\n",
        "                result.append(node.value)\n",
        "                q.extend([node.left, node.right])\n",
        "            return result\n",
        "\n",
        "        def decode_with_root_before_children(tree):\n",
        "            q = deque([tree])\n",
        "            result = []\n",
        "            while q:\n",
        "                node = q.popleft()\n",
        "                if not node: continue\n",
        "                result.append(node.value)\n",
        "                q.extendright([node.left, node.right])\n",
        "            return result\n",
        "\n",
        "        # Try both ways and return the first valid sequence matching desired output\n",
        "        sequence1 = decode_with_root_between_children(TreeNode.from_array(input1))\n",
        "        if sequence1[:3] == [4, 5, 2]:\n",
        "            return sequence1\n",
        "        sequence2 = decode_with_root_before_children(TreeNode.from_array(input2))\n",
        "        if sequence2[:3] == [4, 5, 2]:\n",
        "            return sequence2\n",
        "\n",
        "        # No valid sequence found\n",
        "        return []\n",
        "\n",
        "# Class to represent a node in the tree\n",
        "class TreeNode(object):\n",
        "\n",
        "    def __init__(self, value, left=None, right=None):\n",
        "        self.value = value\n",
        "        self.left = left\n",
        "        self.right = right\n",
        "\n",
        "    @classmethod\n",
        "    def from_array(cls, array):\n",
        "        \"\"\"\n",
        "        Builds a tree from an array in pre-order traversal.\n",
        "        \"\"\"\n",
        "        n = len(array)\n",
        "        if n == 0:\n",
        "            return None\n",
        "        root = cls(array[0])\n",
        "        q = deque([root])\n",
        "        i = 1\n",
        "        while i < n:\n",
        "            node = q.popleft()\n",
        "            if array[i]:\n",
        "                node.left = cls(array[i])\n",
        "                q.append(node.left)\n",
        "            i += 1\n",
        "            if i < n and array[i]:\n",
        "                node.right = cls(array[i])\n",
        "                q.append(node.right)\n",
        "            i += 1\n",
        "        return root\n",
        "\n"
      ],
      "metadata": {
        "id": "TOrDLlYOwYoH"
      },
      "id": "TOrDLlYOwYoH",
      "execution_count": null,
      "outputs": []
    },
    {
      "cell_type": "code",
      "source": [
        "def find_sequence(input1, input2, size):\n",
        "  \"\"\"\n",
        "  Finds the correct sequence of numbers for solving the Cryptic Tree puzzle.\n",
        "\n",
        "  Args:\n",
        "    input1: List of numbers representing the values in the 1st way (root between children).\n",
        "    input2: List of numbers representing the values in the 2nd way (root before children).\n",
        "    size: Size of the list (number of elements).\n",
        "\n",
        "  Returns:\n",
        "    List of numbers representing the correct sequence for solving the puzzle.\n",
        "  \"\"\"\n",
        "\n",
        "  # Check if the tree is empty\n",
        "  if size == 0:\n",
        "    return []\n",
        "\n",
        "  # Identify the root node\n",
        "  if input1[0] not in input2:\n",
        "    root_index = 0 # Case 1: Root between children\n",
        "  else:\n",
        "    root_index = input1.index(input2[0]) # Case 2: Root before children\n",
        "\n",
        "  # Extract sub-trees rooted at children\n",
        "  left_subtree, right_subtree = [], []\n",
        "  if root_index > 0:\n",
        "    left_subtree = input1[1:root_index] + input2[0:root_index]\n",
        "  if root_index < size - 1:\n",
        "    right_subtree = input1[root_index + 1:] + input2[root_index + 1:]\n",
        "\n",
        "  # Recursively find sequences for sub-trees\n",
        "  left_sequence = find_sequence(left_subtree, left_subtree, len(left_subtree))\n",
        "  right_sequence = find_sequence(right_subtree, right_subtree, len(right_subtree))\n",
        "\n",
        "  # Combine sequences with the root node\n",
        "  return [input1[root_index]] + left_sequence + right_sequence\n",
        "\n",
        "# Example usage\n",
        "input1 = [4, 2, 5, 1, 3]\n",
        "input2 = [1, 2, 4, 5, 3]\n",
        "size = 5\n",
        "\n",
        "sequence = find_sequence(input1, input2, size)\n",
        "print(\"Correct sequence:\", sequence)\n"
      ],
      "metadata": {
        "id": "iZgD5yHJzH_r"
      },
      "id": "iZgD5yHJzH_r",
      "execution_count": null,
      "outputs": []
    }
  ],
  "metadata": {
    "colab": {
      "provenance": []
    },
    "kernelspec": {
      "display_name": "Python 3 (ipykernel)",
      "language": "python",
      "name": "python3"
    },
    "language_info": {
      "codemirror_mode": {
        "name": "ipython",
        "version": 3
      },
      "file_extension": ".py",
      "mimetype": "text/x-python",
      "name": "python",
      "nbconvert_exporter": "python",
      "pygments_lexer": "ipython3",
      "version": "3.9.7"
    }
  },
  "nbformat": 4,
  "nbformat_minor": 5
}